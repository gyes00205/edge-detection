{
 "cells": [
  {
   "cell_type": "code",
   "execution_count": 34,
   "metadata": {},
   "outputs": [],
   "source": [
    "import cv2\n",
    "import numpy as np"
   ]
  },
  {
   "cell_type": "code",
   "execution_count": 36,
   "metadata": {},
   "outputs": [],
   "source": [
    "def histogram_equalization(img):\n",
    "    h = np.zeros((256,), dtype=np.int)\n",
    "    s = np.zeros((256,), dtype=np.int)\n",
    "    Sum = np.zeros((256,))\n",
    "    height, width = img.shape\n",
    "    for x in range(width):\n",
    "        for y in range(height):\n",
    "            h[img[y][x]] = h[img[y][x]] + 1\n",
    "    p = h/(height*width)\n",
    "    for k in range(256):\n",
    "        if k==0:\n",
    "            Sum[k] = p[k]\n",
    "        else:\n",
    "            Sum[k] = Sum[k-1]+p[k]\n",
    "    for k in range(256):\n",
    "        s[k] = int(255*Sum[k]+0.5)\n",
    "    for x in range(width):\n",
    "        for y in range(height):\n",
    "            img[y][x] = s[img[y][x]]\n",
    "    return img"
   ]
  },
  {
   "cell_type": "code",
   "execution_count": 37,
   "metadata": {},
   "outputs": [],
   "source": [
    "def sobel(img):\n",
    "    height, width = img.shape\n",
    "    img_sobel = img.copy()\n",
    "    gx = np.array([[-1,-2,-1],\n",
    "                   [ 0, 0, 0],\n",
    "                   [ 1, 2, 1]])\n",
    "    gy = np.array([[-1, 0, 1],\n",
    "                   [-2, 0, 2],\n",
    "                   [-1, 0, 1]])\n",
    "    for x in range(1,width-1):\n",
    "        for y in range(1,height-1):\n",
    "            dx = sum(sum(gx*img[y-1:y+2,x-1:x+2]))\n",
    "            dy = sum(sum(gy*img[y-1:y+2,x-1:x+2]))\n",
    "            img_sobel[y][x] = abs(dx) + abs(dy)\n",
    "    return img_sobel"
   ]
  },
  {
   "cell_type": "code",
   "execution_count": null,
   "metadata": {},
   "outputs": [],
   "source": [
    "image = cv2.imread(\"1.jpg\",0)\n",
    "cv2.imshow(\"origin\", image)\n",
    "cv2.waitKey(0)\n",
    "cv2.destroyAllWindows()"
   ]
  },
  {
   "cell_type": "code",
   "execution_count": 38,
   "metadata": {},
   "outputs": [],
   "source": [
    "img_histogram = histogram_equalization(image.copy())\n",
    "cv2.imshow(\"compare\", np.hstack((image, img_histogram)))\n",
    "cv2.waitKey(0)\n",
    "cv2.imwrite(\"1_histogram.jpg\", img_histogram)\n",
    "cv2.destroyAllWindows()"
   ]
  },
  {
   "cell_type": "code",
   "execution_count": 39,
   "metadata": {},
   "outputs": [],
   "source": [
    "img_sobel = sobel(img_histogram.copy())\n",
    "cv2.imshow(\"sobel\", img_sobel)\n",
    "cv2.waitKey(0)\n",
    "cv2.imwrite(\"1_sobel.jpg\", img_sobel)\n",
    "cv2.destroyAllWindows()"
   ]
  },
  {
   "cell_type": "code",
   "execution_count": 40,
   "metadata": {},
   "outputs": [],
   "source": [
    "image = cv2.imread(\"2.jpg\",0)\n",
    "cv2.imshow(\"origin\", image)\n",
    "cv2.waitKey(0)\n",
    "cv2.destroyAllWindows()"
   ]
  },
  {
   "cell_type": "code",
   "execution_count": 41,
   "metadata": {},
   "outputs": [],
   "source": [
    "img_histogram = histogram_equalization(image.copy())\n",
    "cv2.imshow(\"compare\", np.hstack((image, img_histogram)))\n",
    "cv2.waitKey(0)\n",
    "cv2.imwrite(\"2_histogram.jpg\", img_histogram)\n",
    "cv2.destroyAllWindows()"
   ]
  },
  {
   "cell_type": "code",
   "execution_count": 42,
   "metadata": {},
   "outputs": [],
   "source": [
    "img_sobel = sobel(img_histogram.copy())\n",
    "cv2.imshow(\"sobel\", img_sobel)\n",
    "cv2.waitKey(0)\n",
    "cv2.imwrite(\"2_sobel.jpg\", img_sobel)\n",
    "cv2.destroyAllWindows()"
   ]
  },
  {
   "cell_type": "code",
   "execution_count": null,
   "metadata": {},
   "outputs": [],
   "source": []
  }
 ],
 "metadata": {
  "kernelspec": {
   "display_name": "Python 3",
   "language": "python",
   "name": "python3"
  },
  "language_info": {
   "codemirror_mode": {
    "name": "ipython",
    "version": 3
   },
   "file_extension": ".py",
   "mimetype": "text/x-python",
   "name": "python",
   "nbconvert_exporter": "python",
   "pygments_lexer": "ipython3",
   "version": "3.7.4"
  }
 },
 "nbformat": 4,
 "nbformat_minor": 2
}
